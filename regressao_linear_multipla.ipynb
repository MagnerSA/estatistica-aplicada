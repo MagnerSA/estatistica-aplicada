{
  "nbformat": 4,
  "nbformat_minor": 2,
  "metadata": {
    "kernelspec": {
      "display_name": "Python 3",
      "language": "python",
      "name": "python3"
    },
    "language_info": {
      "name": "python",
      "version": "3.6.6",
      "mimetype": "text/x-python",
      "codemirror_mode": {
        "name": "ipython",
        "version": 3
      },
      "pygments_lexer": "ipython3",
      "nbconvert_exporter": "python",
      "file_extension": ".py"
    },
    "colab": {
      "name": "regressao_linear_multipla.ipynb",
      "provenance": [],
      "collapsed_sections": []
    }
  },
  "cells": [
    {
      "cell_type": "markdown",
      "source": [
        "# Livrarias Python necessárias para a execução do projeto."
      ],
      "metadata": {
        "_cell_guid": "79c7e3d0-c299-4dcb-8224-4455121ee9b0",
        "collapsed": true,
        "_uuid": "d629ff2d2480ee46fbb7e2d37f6b5fab8052498a",
        "trusted": false,
        "id": "ilrYMcyZtKJS"
      }
    },
    {
      "cell_type": "code",
      "execution_count": null,
      "source": [
        "import matplotlib.pyplot as plt\r\n",
        "import pandas as pd\r\n",
        "import numpy as np\r\n",
        "import pylab as pl\r\n",
        "%matplotlib inline"
      ],
      "outputs": [],
      "metadata": {
        "trusted": true,
        "_uuid": "6415bf18c6101a1895439df073ca312882b239e3",
        "id": "J8kBIzvUtKJV"
      }
    },
    {
      "cell_type": "markdown",
      "source": [
        "# **Introdução**\n",
        "\n",
        "&nbsp;\n",
        "\n",
        "Utilizaremos um conjunto de dados de consumo de combustível que contém classificações de consumo de combustível específicas do modelo e emissões estimadas de dióxido de carbono para veículos leves a venda no Canadá. \n",
        "\n",
        "&nbsp;\n",
        "\n",
        "Download, documentação e licensa de uso para a base da dados podem ser acessados em: https://open.canada.ca/data/en/dataset/98f1a129-f628-4ce4-b24d-6f16bf24dd64\n",
        "\n",
        "&nbsp;\n",
        "\n",
        "# **Variáveis**\n",
        "\n",
        "&nbsp;\n",
        "\n",
        "A seguir, uma listagem e breve descrição das varáveis.\n",
        "\n",
        "&nbsp;\n",
        "\n",
        "**ANO_MODELO** - Ano de fabricação do modelo\n",
        "\n",
        "**FABRICANTE** - Empresa fabricante do veículo\n",
        "\n",
        "**MODELO** - Modelo do veículo\n",
        "\n",
        "**CLASSE** - Classe de veículo\n",
        "\n",
        "**TAM_MOTOR** - Tamanho (capacidade) do motor usado em litros\n",
        "\n",
        "**NUM_CILIN** - Número de cilindros\n",
        "\n",
        "**TRANSMISSAO** - Tipo de transmissão com número de marchas\n",
        "\n",
        "**TIPO_COMBUS** - Tipo de combustivel usado\n",
        "\n",
        "**CONS_COMB_CID** - Consumo de combustível na cidade (L/100 km)\n",
        "\n",
        "**CONS_COMB_AVE** - Consumo de combustível em rodovias (L/100 km)\n",
        "\n",
        "**CONS_COMB_COMB** - O consumo de combustível combinado (cidade e rodovia) (L/100 km)\n",
        "\n",
        "**EMISSAO_CO2** - Emissão de CO2 (g/km)"
      ],
      "metadata": {
        "_uuid": "b0931ac2a1dc25cb9642fd4862551a506f30cff0",
        "id": "kt9yPJ3UtKJc"
      }
    },
    {
      "cell_type": "code",
      "execution_count": null,
      "source": [
        "url_dados = 'https://github.com/MagnerSA/estatistica-aplicada/blob/main/consumo.csv'\r\n",
        "df = pd.read_csv(url_dados)\r\n",
        "df.head()"
      ],
      "outputs": [
        {
          "output_type": "execute_result",
          "data": {
            "text/html": [
              "<div>\n",
              "<style scoped>\n",
              "    .dataframe tbody tr th:only-of-type {\n",
              "        vertical-align: middle;\n",
              "    }\n",
              "\n",
              "    .dataframe tbody tr th {\n",
              "        vertical-align: top;\n",
              "    }\n",
              "\n",
              "    .dataframe thead th {\n",
              "        text-align: right;\n",
              "    }\n",
              "</style>\n",
              "<table border=\"1\" class=\"dataframe\">\n",
              "  <thead>\n",
              "    <tr style=\"text-align: right;\">\n",
              "      <th></th>\n",
              "      <th>ANOMODELO</th>\n",
              "      <th>FABRICANTE</th>\n",
              "      <th>MODELO</th>\n",
              "      <th>CLASSE</th>\n",
              "      <th>TAM_MOTOR</th>\n",
              "      <th>NUM_CILIN</th>\n",
              "      <th>TRANSMISSAO</th>\n",
              "      <th>TIPO_COMBUS</th>\n",
              "      <th>CONS_COMB_CID</th>\n",
              "      <th>CONS_COMB_AVE</th>\n",
              "      <th>CONS_COMB_COMB</th>\n",
              "      <th>CONS_COMB_COMB_MPG</th>\n",
              "      <th>EMISSAO_CO2</th>\n",
              "    </tr>\n",
              "  </thead>\n",
              "  <tbody>\n",
              "    <tr>\n",
              "      <th>0</th>\n",
              "      <td>2014</td>\n",
              "      <td>ACURA</td>\n",
              "      <td>ILX</td>\n",
              "      <td>COMPACT</td>\n",
              "      <td>2.0</td>\n",
              "      <td>4</td>\n",
              "      <td>AS5</td>\n",
              "      <td>Z</td>\n",
              "      <td>9.9</td>\n",
              "      <td>6.7</td>\n",
              "      <td>8.5</td>\n",
              "      <td>33</td>\n",
              "      <td>196</td>\n",
              "    </tr>\n",
              "    <tr>\n",
              "      <th>1</th>\n",
              "      <td>2014</td>\n",
              "      <td>ACURA</td>\n",
              "      <td>ILX</td>\n",
              "      <td>COMPACT</td>\n",
              "      <td>2.4</td>\n",
              "      <td>4</td>\n",
              "      <td>M6</td>\n",
              "      <td>Z</td>\n",
              "      <td>11.2</td>\n",
              "      <td>7.7</td>\n",
              "      <td>9.6</td>\n",
              "      <td>29</td>\n",
              "      <td>221</td>\n",
              "    </tr>\n",
              "    <tr>\n",
              "      <th>2</th>\n",
              "      <td>2014</td>\n",
              "      <td>ACURA</td>\n",
              "      <td>ILX HYBRID</td>\n",
              "      <td>COMPACT</td>\n",
              "      <td>1.5</td>\n",
              "      <td>4</td>\n",
              "      <td>AV7</td>\n",
              "      <td>Z</td>\n",
              "      <td>6.0</td>\n",
              "      <td>5.8</td>\n",
              "      <td>5.9</td>\n",
              "      <td>48</td>\n",
              "      <td>136</td>\n",
              "    </tr>\n",
              "    <tr>\n",
              "      <th>3</th>\n",
              "      <td>2014</td>\n",
              "      <td>ACURA</td>\n",
              "      <td>MDX 4WD</td>\n",
              "      <td>SUV - SMALL</td>\n",
              "      <td>3.5</td>\n",
              "      <td>6</td>\n",
              "      <td>AS6</td>\n",
              "      <td>Z</td>\n",
              "      <td>12.7</td>\n",
              "      <td>9.1</td>\n",
              "      <td>11.1</td>\n",
              "      <td>25</td>\n",
              "      <td>255</td>\n",
              "    </tr>\n",
              "    <tr>\n",
              "      <th>4</th>\n",
              "      <td>2014</td>\n",
              "      <td>ACURA</td>\n",
              "      <td>RDX AWD</td>\n",
              "      <td>SUV - SMALL</td>\n",
              "      <td>3.5</td>\n",
              "      <td>6</td>\n",
              "      <td>AS6</td>\n",
              "      <td>Z</td>\n",
              "      <td>12.1</td>\n",
              "      <td>8.7</td>\n",
              "      <td>10.6</td>\n",
              "      <td>27</td>\n",
              "      <td>244</td>\n",
              "    </tr>\n",
              "  </tbody>\n",
              "</table>\n",
              "</div>"
            ],
            "text/plain": [
              "   ANOMODELO FABRICANTE  ... CONS_COMB_COMB_MPG EMISSAO_CO2\n",
              "0       2014      ACURA  ...                 33         196\n",
              "1       2014      ACURA  ...                 29         221\n",
              "2       2014      ACURA  ...                 48         136\n",
              "3       2014      ACURA  ...                 25         255\n",
              "4       2014      ACURA  ...                 27         244\n",
              "\n",
              "[5 rows x 13 columns]"
            ]
          },
          "metadata": {},
          "execution_count": 2
        }
      ],
      "metadata": {
        "trusted": true,
        "_uuid": "68142b008847084a779702f7b8b77366e1ceb48f",
        "colab": {
          "base_uri": "https://localhost:8080/",
          "height": 279
        },
        "id": "bvicDdJltKJi",
        "outputId": "7a6b75ea-eebb-4c20-c9ab-829d1a0823d1"
      }
    },
    {
      "cell_type": "markdown",
      "source": [
        "Vamos selecionar recursos que queremos usar para regressão."
      ],
      "metadata": {
        "_uuid": "cefeb750ede0f13a978640902e87c039bdc17fbf",
        "id": "oBIOnx8jtKJk"
      }
    },
    {
      "cell_type": "code",
      "execution_count": null,
      "source": [
        "variaveis = df[['TAM_MOTOR', 'NUM_CILIN', 'CONS_COMB_CID', 'CONS_COMB_AVE', 'CONS_COMB_COMB', 'EMISSAO_CO2']]\r\n",
        "variaveis.head()"
      ],
      "outputs": [
        {
          "output_type": "execute_result",
          "data": {
            "text/html": [
              "<div>\n",
              "<style scoped>\n",
              "    .dataframe tbody tr th:only-of-type {\n",
              "        vertical-align: middle;\n",
              "    }\n",
              "\n",
              "    .dataframe tbody tr th {\n",
              "        vertical-align: top;\n",
              "    }\n",
              "\n",
              "    .dataframe thead th {\n",
              "        text-align: right;\n",
              "    }\n",
              "</style>\n",
              "<table border=\"1\" class=\"dataframe\">\n",
              "  <thead>\n",
              "    <tr style=\"text-align: right;\">\n",
              "      <th></th>\n",
              "      <th>TAM_MOTOR</th>\n",
              "      <th>NUM_CILIN</th>\n",
              "      <th>CONS_COMB_CID</th>\n",
              "      <th>CONS_COMB_AVE</th>\n",
              "      <th>CONS_COMB_COMB</th>\n",
              "      <th>EMISSAO_CO2</th>\n",
              "    </tr>\n",
              "  </thead>\n",
              "  <tbody>\n",
              "    <tr>\n",
              "      <th>0</th>\n",
              "      <td>2.0</td>\n",
              "      <td>4</td>\n",
              "      <td>9.9</td>\n",
              "      <td>6.7</td>\n",
              "      <td>8.5</td>\n",
              "      <td>196</td>\n",
              "    </tr>\n",
              "    <tr>\n",
              "      <th>1</th>\n",
              "      <td>2.4</td>\n",
              "      <td>4</td>\n",
              "      <td>11.2</td>\n",
              "      <td>7.7</td>\n",
              "      <td>9.6</td>\n",
              "      <td>221</td>\n",
              "    </tr>\n",
              "    <tr>\n",
              "      <th>2</th>\n",
              "      <td>1.5</td>\n",
              "      <td>4</td>\n",
              "      <td>6.0</td>\n",
              "      <td>5.8</td>\n",
              "      <td>5.9</td>\n",
              "      <td>136</td>\n",
              "    </tr>\n",
              "    <tr>\n",
              "      <th>3</th>\n",
              "      <td>3.5</td>\n",
              "      <td>6</td>\n",
              "      <td>12.7</td>\n",
              "      <td>9.1</td>\n",
              "      <td>11.1</td>\n",
              "      <td>255</td>\n",
              "    </tr>\n",
              "    <tr>\n",
              "      <th>4</th>\n",
              "      <td>3.5</td>\n",
              "      <td>6</td>\n",
              "      <td>12.1</td>\n",
              "      <td>8.7</td>\n",
              "      <td>10.6</td>\n",
              "      <td>244</td>\n",
              "    </tr>\n",
              "  </tbody>\n",
              "</table>\n",
              "</div>"
            ],
            "text/plain": [
              "   TAM_MOTOR  NUM_CILIN  ...  CONS_COMB_COMB  EMISSAO_CO2\n",
              "0        2.0          4  ...             8.5          196\n",
              "1        2.4          4  ...             9.6          221\n",
              "2        1.5          4  ...             5.9          136\n",
              "3        3.5          6  ...            11.1          255\n",
              "4        3.5          6  ...            10.6          244\n",
              "\n",
              "[5 rows x 6 columns]"
            ]
          },
          "metadata": {},
          "execution_count": 3
        }
      ],
      "metadata": {
        "trusted": true,
        "_uuid": "e5ddcd822cf355c22f00dfa5c9f8a84e560462b8",
        "colab": {
          "base_uri": "https://localhost:8080/",
          "height": 206
        },
        "id": "t8QpJCKvtKJm",
        "outputId": "881f8de1-c219-4d08-b41f-63e3c165929b"
      }
    },
    {
      "cell_type": "markdown",
      "source": [
        "Vamos representar graficamente os valores de emissão em relação ao tamanho do motor:"
      ],
      "metadata": {
        "_uuid": "2d3f4fed97381f24dbca0d0f2190085d04b62e46",
        "id": "mphbnnyytKJo"
      }
    },
    {
      "cell_type": "code",
      "execution_count": null,
      "source": [
        "plt.scatter(variaveis.TAM_MOTOR, variaveis.EMISSAO_CO2, color='blue')\r\n",
        "plt.xlabel('TAM_MOTOR')\r\n",
        "plt.ylabel('EMISSAO_CO2')\r\n",
        "plt.show()"
      ],
      "outputs": [
        {
          "output_type": "display_data",
          "data": {
            "image/png": "[encoded data removed]",
            "text/plain": [
              "<Figure size 432x288 with 1 Axes>"
            ]
          },
          "metadata": {
            "needs_background": "light"
          }
        }
      ],
      "metadata": {
        "trusted": true,
        "_uuid": "689cd9f4f8e2db214ca3142fa824a1c899d70103",
        "colab": {
          "base_uri": "https://localhost:8080/",
          "height": 281
        },
        "id": "IPu3_G-XtKJq",
        "outputId": "3b5a17f4-0919-4d06-9b9e-e62be72aa00f"
      }
    },
    {
      "cell_type": "markdown",
      "source": [
        "# **Criação de conjunto de dados de treinamento e teste**\n",
        "\n",
        "&nbsp;\n",
        "\n",
        "A divisão de treinamento/teste envolve a divisão do conjunto de dados em conjuntos de treinamento e teste, respectivamente, que são mutuamente exclusivos. Depois disso, você treina com o conjunto de treinamento e testa com o conjunto de teste. Isso fornecerá uma avaliação mais precisa sobre a precisão fora da amostra porque o conjunto de dados de teste não faz parte do conjunto de dados que foi usado para treinar os dados. É mais realista para problemas do mundo real. Isso significa que sabemos o resultado de cada ponto de dados neste conjunto de dados, tornando-o ótimo para testar! E uma vez que esses dados não foram usados ​​para treinar o modelo, o modelo não tem conhecimento do resultado desses pontos de dados. Então, em essência, é realmente um teste fora da amostra."
      ],
      "metadata": {
        "_uuid": "ddcee99418596967103c81cee5e49cb79fafc2ba",
        "id": "S4t7SsTAtKJs"
      }
    },
    {
      "cell_type": "code",
      "execution_count": null,
      "source": [
        "msk = np.random.rand(len(df)) < 0.8\r\n",
        "train = variaveis[msk]\r\n",
        "test = variaveis[~msk]"
      ],
      "outputs": [],
      "metadata": {
        "trusted": true,
        "_uuid": "55a582aa347b380641690486b1721558d99f6547",
        "id": "tu7mtMVjtKJw"
      }
    },
    {
      "cell_type": "markdown",
      "source": [
        "# **Distribuição de dados de treino**"
      ],
      "metadata": {
        "_uuid": "146050269e39851ecf91d2188783f51c657e74fd",
        "id": "GZ2O6XGutKJy"
      }
    },
    {
      "cell_type": "code",
      "execution_count": null,
      "source": [
        "plt.scatter(train.TAM_MOTOR, train.EMISSAO_CO2, color = 'blue')\r\n",
        "plt.xlabel('TAM_MOTOR')\r\n",
        "plt.ylabel('CO2 Emission')\r\n",
        "plt.show()"
      ],
      "outputs": [
        {
          "output_type": "display_data",
          "data": {
            "image/png": "[encoded data removed]",
            "text/plain": [
              "<Figure size 432x288 with 1 Axes>"
            ]
          },
          "metadata": {
            "needs_background": "light"
          }
        }
      ],
      "metadata": {
        "trusted": true,
        "_uuid": "174b35168196468ea87280e2222bee023ad6a427",
        "colab": {
          "base_uri": "https://localhost:8080/",
          "height": 282
        },
        "id": "OC0fBwjNtKJz",
        "outputId": "de4399da-d366-492b-fdd6-b28526143675"
      }
    },
    {
      "cell_type": "markdown",
      "source": [
        "# **Modelo de regressão múltipla**\n",
        "\n",
        "&nbsp;\n",
        "\n",
        "Na realidade, existem múltiplas variáveis ​​que predizem a emissão de CO2. A seguir utilizaremos as varáveis CONS_COMB_COMB, TAM_MOTOR e NUM_CILIN na regressão linear múltipla afim de prever a emissão de co2."
      ],
      "metadata": {
        "_uuid": "afad5870caf158cbbf4c42423b26cd01aeb80fdd",
        "id": "N88YdmpotKJ2"
      }
    },
    {
      "cell_type": "code",
      "execution_count": null,
      "source": [
        "from sklearn import linear_model\r\n",
        "\r\n",
        "regr = linear_model.LinearRegression()\r\n",
        "x = np.asanyarray(train[['TAM_MOTOR', 'NUM_CILIN', 'CONS_COMB_COMB']])\r\n",
        "y = np.asanyarray(train[['EMISSAO_CO2']])\r\n",
        "regr.fit(x,y)\r\n",
        "\r\n",
        "print('Coeficientes: ', regr.coef_)"
      ],
      "outputs": [
        {
          "output_type": "stream",
          "name": "stdout",
          "text": [
            "Coeficientes:  [[10.04716757  7.91612066  9.52623644]]\n"
          ]
        }
      ],
      "metadata": {
        "trusted": true,
        "_uuid": "7e7a529df0fef7c6de63ffca1cbfefdc3ea921c9",
        "colab": {
          "base_uri": "https://localhost:8080/"
        },
        "id": "aGLKpD2MtKJ3",
        "outputId": "186f5bb8-6e15-4797-c3ed-28d50f37314c"
      }
    },
    {
      "cell_type": "markdown",
      "source": [
        "# **Mínimos Quadrados Ordinários (MQO)**\n",
        "\n",
        "&nbsp;\n",
        "\n",
        "MQO é um método para estimar os parâmetros desconhecidos em um modelo de regressão linear. MQO escolhe os parâmetros de uma função linear de um conjunto de variáveis ​​explicativas, minimizando a soma dos quadrados das diferenças entre a variável dependente alvo e aqueles previstos pela função linear, ou seja, ele tenta minimizar a soma dos erros quadráticos ou erro quadrático médio entre a variável de destino e nossa saída prevista em todas as amostras no conjunto de dados."
      ],
      "metadata": {
        "_uuid": "8bb54f34deaf3fa88a7c663be099e34659da56da",
        "id": "8-GJFdx_tKJ5"
      }
    },
    {
      "cell_type": "markdown",
      "source": [
        "# **Predição**"
      ],
      "metadata": {
        "_uuid": "fb41fe68a4f003cb4e66ae41bbdefa491119d377",
        "id": "QgPpTLY4tKJ7"
      }
    },
    {
      "cell_type": "code",
      "execution_count": null,
      "source": [
        "y_= regr.predict(test[['TAM_MOTOR', 'NUM_CILIN', 'CONS_COMB_COMB']])\r\n",
        "x = np.asanyarray(test[['TAM_MOTOR', 'NUM_CILIN', 'CONS_COMB_COMB']])\r\n",
        "y = np.asanyarray(test[['EMISSAO_CO2']])\r\n",
        "print('Quadrados de soma residual: %.2f' % np.mean((y_ - y) ** 2))\r\n",
        "print('Pontuação de variância: %.2f' % regr.score(x, y)) "
      ],
      "outputs": [
        {
          "output_type": "stream",
          "name": "stdout",
          "text": [
            "Quadrados de soma residual: 539.43\n",
            "Pontuação de variância: 0.89\n"
          ]
        }
      ],
      "metadata": {
        "trusted": true,
        "_uuid": "6ba7a7ad918245ff25490008c9d3d68c629c4b90",
        "colab": {
          "base_uri": "https://localhost:8080/"
        },
        "id": "zqEqTjSTtKJ_",
        "outputId": "893a59ba-ac75-4d06-bc84-722604fdf11a"
      }
    },
    {
      "cell_type": "markdown",
      "source": [
        "# **pontuação de regressão de variância explicada:**\n",
        "\n",
        "&nbsp;\n",
        "\n",
        "Se $\\hat{y}$ é o produto alvo estimado, y é o produto alvo correspondente (correto) e Var é a variância, o quadrado do desvio padrão, então a variância explicada é estimada da seguinte forma:\n",
        "\n",
        "&nbsp;\n",
        "\n",
        "$\\texttt{variância}(y, \\hat{y}) = 1 - \\frac{Var\\{ y - \\hat{y}\\}}{Var\\{y\\}}$  \n",
        "\n",
        "&nbsp;\n",
        "\n",
        "A melhor pontuação possível é 1,0."
      ],
      "metadata": {
        "_uuid": "e78cff158dc00900b2661fea854c2e43b9742713",
        "id": "cB4dqS0YtKKA"
      }
    },
    {
      "cell_type": "markdown",
      "source": [
        "Nós também podemos usar um modelo utilizando os atributos CONS_COMB_CID e CONS_COMB_AVE ao invés de usarmos CONS_COMB_COMB, para fins comparativos, como segue abaixo:\n"
      ],
      "metadata": {
        "_uuid": "d46da8e162ff89484de8658d6dd4fbbcd0851971",
        "id": "1VQIsn1ctKKC"
      }
    },
    {
      "cell_type": "code",
      "execution_count": null,
      "source": [
        "regr = linear_model.LinearRegression()\r\n",
        "x = np.asanyarray(train[['TAM_MOTOR', 'NUM_CILIN', 'CONS_COMB_CID', 'CONS_COMB_AVE']])\r\n",
        "y = np.asanyarray(train[['EMISSAO_CO2']])\r\n",
        "regr.fit (x, y)\r\n",
        "print ('Coeficientes: ', regr.coef_)\r\n",
        "\r\n",
        "y_= regr.predict(test[['TAM_MOTOR', 'NUM_CILIN', 'CONS_COMB_CID', 'CONS_COMB_AVE']])\r\n",
        "x = np.asanyarray(test[['TAM_MOTOR', 'NUM_CILIN', 'CONS_COMB_CID', 'CONS_COMB_AVE']])\r\n",
        "y = np.asanyarray(test[['EMISSAO_CO2']])\r\n",
        "\r\n",
        "print(\"Quadrados de soma residual: %.2f\"% np.mean((y_ - y) ** 2))\r\n",
        "print('Pontuação de variância: %.2f' % regr.score(x, y))"
      ],
      "outputs": [
        {
          "output_type": "stream",
          "name": "stdout",
          "text": [
            "Coeficientes:  [[10.10719828  7.64456063  5.88471282  3.44678079]]\n",
            "Quadrados de soma residual: 538.80\n",
            "Pontuação de variância: 0.89\n"
          ]
        }
      ],
      "metadata": {
        "trusted": true,
        "_uuid": "39ba6bc9270887ac103c3d457aea127cffa2dd86",
        "colab": {
          "base_uri": "https://localhost:8080/"
        },
        "id": "vMO0qBUntKKD",
        "outputId": "c9f050da-8591-442e-96e4-3322a74c64cb"
      }
    },
    {
      "cell_type": "markdown",
      "source": [
        "É possível perceber que há uma diferença minima entre resultados do modelo utilizando as variáveis TAM_MOTOR, NUM_CILIN,CONS_COMB_COMB e do modelo utilizando as variáveis TAM_MOTOR, NUM_CILIN, CONS_COMB_CID, CONS_COMB_AVE."
      ],
      "metadata": {
        "id": "vjmta5RF8HtV"
      }
    }
  ]
}